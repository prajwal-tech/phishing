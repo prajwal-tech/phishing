{
  "nbformat": 4,
  "nbformat_minor": 0,
  "metadata": {
    "colab": {
      "provenance": []
    },
    "kernelspec": {
      "name": "python3",
      "display_name": "Python 3"
    },
    "language_info": {
      "name": "python"
    }
  },
  "cells": [
    {
      "cell_type": "code",
      "source": [
        "import pandas as pd\n",
        "from sklearn.model_selection import train_test_split\n",
        "from sklearn.ensemble import RandomForestClassifier\n",
        "from sklearn.metrics import accuracy_score, classification_report\n",
        "from sklearn.preprocessing import LabelEncoder\n",
        "\n",
        "# Load data from Excel\n",
        "data = pd.read_excel('/content/Phishing Data.xlsx')\n",
        "\n",
        "# Check column names and first few rows of data\n",
        "print(\"Column Names:\")\n",
        "print(data.columns)\n",
        "\n",
        "print(\"\\nFirst few rows of data:\")\n",
        "print(data.head())\n",
        "\n",
        "# Assuming 'Label' column contains the target variable\n",
        "# Convert labels to numerical values (if necessary)\n",
        "if 'Label' in data.columns:\n",
        "    le = LabelEncoder()\n",
        "    data['Label'] = le.fit_transform(data['Label'])\n",
        "    # Splitting data into features and target variable\n",
        "    X = data.drop('Label', axis=1)  # Features\n",
        "    y = data['Label']  # Target\n",
        "\n",
        "    # Split data into training and testing sets\n",
        "    X_train, X_test, y_train, y_test = train_test_split(X, y, test_size=0.2, random_state=42)\n",
        "\n",
        "    # Model selection and training\n",
        "    model = RandomForestClassifier(n_estimators=100, random_state=42)\n",
        "    model.fit(X_train, y_train)\n",
        "\n",
        "    # Predictions on the test set\n",
        "    predictions = model.predict(X_test)\n",
        "\n",
        "    # Model evaluation\n",
        "    accuracy = accuracy_score(y_test, predictions)\n",
        "    print(f\"Accuracy: {accuracy}\")\n",
        "\n",
        "    # Classification report\n",
        "    print(\"\\nClassification Report:\")\n",
        "    print(classification_report(y_test, predictions))\n",
        "else:\n",
        "    print(\"'Label' column not found in the dataset. Please check column names.\")\n",
        "\n"
      ],
      "metadata": {
        "colab": {
          "base_uri": "https://localhost:8080/"
        },
        "id": "XIziMk-0nvjh",
        "outputId": "5bc4c45f-9256-42e9-e4b4-c40a78d1fc1e"
      },
      "execution_count": 8,
      "outputs": [
        {
          "output_type": "stream",
          "name": "stdout",
          "text": [
            "Column Names:\n",
            "Index(['having_IP_Address', 'URL_Length', 'Shortining_Service',\n",
            "       'having_At_Symbol', 'double_slash_redirecting', 'Prefix_Suffix',\n",
            "       'having_Sub_Domain', 'SSLfinal_State', 'Domain_registeration_length',\n",
            "       'Favicon', 'port', 'HTTPS_token', 'Request_URL', 'URL_of_Anchor',\n",
            "       'Links_in_tags', 'SFH', 'Submitting_to_email', 'Abnormal_URL',\n",
            "       'Redirect', 'on_mouseover', 'RightClick', 'popUpWidnow', 'Iframe',\n",
            "       'age_of_domain', 'DNSRecord', 'web_traffic', 'Page_Rank',\n",
            "       'Google_Index', 'Links_pointing_to_page', 'Statistical_report',\n",
            "       'Result'],\n",
            "      dtype='object')\n",
            "\n",
            "First few rows of data:\n",
            "   having_IP_Address  URL_Length  Shortining_Service  having_At_Symbol  \\\n",
            "0                  1           1                   0                 0   \n",
            "1                  0           1                   0                 0   \n",
            "2                  0           0                   0                 0   \n",
            "3                  0           0                   0                 0   \n",
            "4                  0           0                   1                 0   \n",
            "\n",
            "   double_slash_redirecting  Prefix_Suffix  having_Sub_Domain  SSLfinal_State  \\\n",
            "0                         1             -1                 -1              -1   \n",
            "1                         0             -1                  0               1   \n",
            "2                         0             -1                 -1              -1   \n",
            "3                         0             -1                 -1              -1   \n",
            "4                         0             -1                  1               1   \n",
            "\n",
            "   Domain_registeration_length  Favicon  ...  popUpWidnow  Iframe  \\\n",
            "0                            0        0  ...            0       0   \n",
            "1                            0        0  ...            0       0   \n",
            "2                            0        0  ...            0       0   \n",
            "3                            1        0  ...            0       0   \n",
            "4                            0        0  ...            1       0   \n",
            "\n",
            "   age_of_domain  DNSRecord  web_traffic  Page_Rank  Google_Index  \\\n",
            "0             -1          1           -1         -1             0   \n",
            "1             -1          1            0         -1             0   \n",
            "2              0          1            1         -1             0   \n",
            "3             -1          1            1         -1             0   \n",
            "4             -1          1            0         -1             0   \n",
            "\n",
            "   Links_pointing_to_page  Statistical_report  Result  \n",
            "0                       1                   1       1  \n",
            "1                       1                   0       1  \n",
            "2                       0                   1       1  \n",
            "3                      -1                   0       1  \n",
            "4                       1                   0       0  \n",
            "\n",
            "[5 rows x 31 columns]\n",
            "'Label' column not found in the dataset. Please check column names.\n"
          ]
        }
      ]
    }
  ]
}